{
  "nbformat": 4,
  "nbformat_minor": 0,
  "metadata": {
    "colab": {
      "provenance": [],
      "authorship_tag": "ABX9TyMc+xlnYIYqQ2m2D8KfF8lL",
      "include_colab_link": true
    },
    "kernelspec": {
      "name": "python3",
      "display_name": "Python 3"
    },
    "language_info": {
      "name": "python"
    }
  },
  "cells": [
    {
      "cell_type": "markdown",
      "metadata": {
        "id": "view-in-github",
        "colab_type": "text"
      },
      "source": [
        "<a href=\"https://colab.research.google.com/github/jisusP/MachineLearning/blob/main/SVC.ipynb\" target=\"_parent\"><img src=\"https://colab.research.google.com/assets/colab-badge.svg\" alt=\"Open In Colab\"/></a>"
      ]
    },
    {
      "cell_type": "code",
      "execution_count": null,
      "metadata": {
        "id": "ArzDVUVQhktv"
      },
      "outputs": [],
      "source": [
        "!pip install sklearn\n",
        "import pandas as pd\n",
        "ruta = \"/content/etanol_metanol_gasolina.xlsx\"\n",
        "df = pd.read_excel(ruta)\n",
        "df"
      ]
    },
    {
      "cell_type": "code",
      "source": [
        "import sklearn\n",
        "from sklearn.svm import SVR\n",
        "from sklearn.decomposition import PCA\n",
        "from sklearn.model_selection import train_test_split\n",
        "\n",
        "x = df.drop([\"Unnamed: 0\", \"Methanol\", \"Etanol\", \"Gas\"], axis = 1)\n",
        "y = df.iloc[:,[1,2,3]]\n",
        "x.columns = x.columns.astype(str)\n",
        "pca = PCA(n_components=50)\n",
        "x_pca = pca.fit_transform(x)\n",
        "\n",
        "\n",
        "\"\"\"x_train, x_test, y_train, y_test = train_test_split(x_pca, y, test_size=0.2)\n",
        "algoritmo = SVR(kernel=\"rbf\")\n",
        "algoritmo.fit(x_train, y_train)\n",
        "\n",
        "composition = algoritmo.predict(x_test)\"\"\""
      ],
      "metadata": {
        "id": "5fUoKlZ3h50i"
      },
      "execution_count": null,
      "outputs": []
    },
    {
      "cell_type": "code",
      "source": [
        "\"\"\"y_met = y.iloc[:,0]\n",
        "y_et = y[\"Etanol\"]\n",
        "y_gas = y['Gas']\"\"\"\n",
        "#x_met_train, x_met_test, y_met_train, y_met_test = train_test_split(x_pca, y_met, test_size=0.2)\n",
        "algoritmo = SVC(kernel=\"rbf\")\n",
        "algoritmo.fit(x_met_train, y_met_train)\n",
        "\n",
        "composition = algoritmo.predict(x_met_test)"
      ],
      "metadata": {
        "id": "qmCk2P15ljDF"
      },
      "execution_count": null,
      "outputs": []
    },
    {
      "cell_type": "code",
      "source": [
        "\n",
        "from sklearn.model_selection import train_test_split\n",
        "from sklearn.preprocessing import StandardScaler\n",
        "from sklearn.cross_decomposition import PLSRegression\n",
        "from sklearn.metrics import mean_squared_error\n",
        "\n",
        "\n",
        "\n",
        "# Dividir los datos en conjuntos de entrenamiento y prueba\n",
        "X_train, X_test, y_train, y_test = train_test_split(x, y, test_size=0.2, random_state=42)\n",
        "\n",
        "# Escalar las variables predictoras\n",
        "scaler = StandardScaler()\n",
        "X_train_scaled = scaler.fit_transform(X_train)\n",
        "X_test_scaled = scaler.transform(X_test)\n",
        "\n",
        "# Crear el modelo PLSR\n",
        "pls_model = PLSRegression(n_components=3)\n",
        "\n",
        "# Entrenar el modelo\n",
        "pls_model.fit(X_train_scaled, y_train)\n",
        "\n",
        "# Realizar predicciones en el conjunto de prueba\n",
        "y_pred = pls_model.predict(X_test_scaled)\n",
        "\n",
        "# Calcular el error cuadrático medio\n",
        "mse = mean_squared_error(y_test, y_pred)\n",
        "print(f\"Mean Squared Error: {mse}\")\n",
        "print(f\"{pls_model.score}\")\n"
      ],
      "metadata": {
        "colab": {
          "base_uri": "https://localhost:8080/"
        },
        "id": "a7nCG0japp5E",
        "outputId": "30de3f82-d0e2-4ca1-faf9-65eb36200523"
      },
      "execution_count": null,
      "outputs": [
        {
          "output_type": "stream",
          "name": "stdout",
          "text": [
            "Mean Squared Error: 1.9350216437602759\n",
            "<bound method RegressorMixin.score of PLSRegression(n_components=3)>\n"
          ]
        }
      ]
    },
    {
      "cell_type": "code",
      "source": [
        "import matplotlib.pyplot as plt\n",
        "import seaborn as sns\n",
        "plt.scatter(y_test, y_pred, color=\"red\")\n",
        "plt.xlabel(\"Valores originales\")\n",
        "plt.ylabel(\"Valores predichos\")\n",
        "plt.show()\n"
      ],
      "metadata": {
        "colab": {
          "base_uri": "https://localhost:8080/",
          "height": 449
        },
        "id": "ekFBY7jFqbNB",
        "outputId": "35c0c52c-3555-42af-cacc-f7316b47d51a"
      },
      "execution_count": null,
      "outputs": [
        {
          "output_type": "display_data",
          "data": {
            "text/plain": [
              "<Figure size 640x480 with 1 Axes>"
            ],
            "image/png": "[encoded data removed]"
          },
          "metadata": {}
        }
      ]
    }
  ]
}