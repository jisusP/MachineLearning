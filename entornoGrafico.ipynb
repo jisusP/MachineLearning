{
  "cells": [
    {
      "cell_type": "markdown",
      "metadata": {
        "id": "view-in-github",
        "colab_type": "text"
      },
      "source": [
        "<a href=\"https://colab.research.google.com/github/jisusP/MachineLearning/blob/main/entornoGrafico.ipynb\" target=\"_parent\"><img src=\"https://colab.research.google.com/assets/colab-badge.svg\" alt=\"Open In Colab\"/></a>"
      ]
    },
    {
      "cell_type": "code",
      "execution_count": null,
      "metadata": {
        "colab": {
          "background_save": true,
          "base_uri": "https://localhost:8080/"
        },
        "id": "cAWqAiGjLlmY",
        "outputId": "7d95bfec-17f7-41af-d698-5b2fd7875616"
      },
      "outputs": [
        {
          "data": {
            "text/plain": [
              "[[0, 1, 2, 3, 4],\n",
              " [5, 6, 7, 8, 9],\n",
              " [10, 11, 12, 13, 14],\n",
              " [15, 16, 17, 18, 19],\n",
              " [20, 21, 22, 23, 24]]"
            ]
          },
          "execution_count": 4,
          "metadata": {},
          "output_type": "execute_result"
        }
      ],
      "source": [
        "import numpy as np\n",
        "import math\n",
        "matriz = []\n",
        "rows = 5\n",
        "columns = 5\n",
        "\n",
        "for i in range(rows):\n",
        "  fila = []\n",
        "  for j in range(columns):\n",
        "    \"añadir los números a las filas\"\n",
        "    fila.append(i*columns + j)\n",
        "  matriz.append(fila)\n",
        "matriz"
      ]
    },
    {
      "cell_type": "markdown",
      "metadata": {
        "id": "A1HcEgrGU942"
      },
      "source": [
        "# ***Matriz centrada***"
      ]
    },
    {
      "cell_type": "code",
      "execution_count": null,
      "metadata": {
        "colab": {
          "base_uri": "https://localhost:8080/"
        },
        "id": "gl2rs2JqQDog",
        "outputId": "53d7fd89-f104-492d-8ad4-b93fbfd89582"
      },
      "outputs": [
        {
          "data": {
            "text/plain": [
              "array([[-10., -10., -10., -10., -10.],\n",
              "       [ -5.,  -5.,  -5.,  -5.,  -5.],\n",
              "       [  0.,   0.,   0.,   0.,   0.],\n",
              "       [  5.,   5.,   5.,   5.,   5.],\n",
              "       [ 10.,  10.,  10.,  10.,  10.]])"
            ]
          },
          "execution_count": 15,
          "metadata": {},
          "output_type": "execute_result"
        }
      ],
      "source": [
        "import numpy as np\n",
        "\n",
        "column_mean = np.mean(matriz, axis=0)\n",
        "X_centre = matriz - column_mean\n",
        "X_centre"
      ]
    },
    {
      "cell_type": "markdown",
      "metadata": {
        "id": "f5QsnN3-VMob"
      },
      "source": [
        "# ***Matriz escalada***"
      ]
    },
    {
      "cell_type": "code",
      "execution_count": null,
      "metadata": {
        "colab": {
          "base_uri": "https://localhost:8080/"
        },
        "id": "le-y9jamVP8j",
        "outputId": "3c680bda-24d6-460a-a8f4-bb5158dfe7b7"
      },
      "outputs": [
        {
          "name": "stdout",
          "output_type": "stream",
          "text": [
            "[7.07106781 7.07106781 7.07106781 7.07106781 7.07106781]\n"
          ]
        },
        {
          "data": {
            "text/plain": [
              "array([[-1.41421356, -1.41421356, -1.41421356, -1.41421356, -1.41421356],\n",
              "       [-0.70710678, -0.70710678, -0.70710678, -0.70710678, -0.70710678],\n",
              "       [ 0.        ,  0.        ,  0.        ,  0.        ,  0.        ],\n",
              "       [ 0.70710678,  0.70710678,  0.70710678,  0.70710678,  0.70710678],\n",
              "       [ 1.41421356,  1.41421356,  1.41421356,  1.41421356,  1.41421356]])"
            ]
          },
          "execution_count": 17,
          "metadata": {},
          "output_type": "execute_result"
        }
      ],
      "source": [
        "std_columns = np.std(matriz, axis=0)\n",
        "X_escalada = X_centre/std_columns\n",
        "X_escalada"
      ]
    },
    {
      "cell_type": "markdown",
      "metadata": {
        "id": "PK2RPU0SWEv3"
      },
      "source": [
        "# ***Matriz SNV***"
      ]
    },
    {
      "cell_type": "code",
      "execution_count": null,
      "metadata": {
        "colab": {
          "base_uri": "https://localhost:8080/"
        },
        "id": "Fcy18D6VWIgI",
        "outputId": "f32dedf2-f2ff-46a5-fe89-cb91a79a2cdc"
      },
      "outputs": [
        {
          "data": {
            "text/plain": [
              "array([[-1.41421356, -0.70710678,  0.        ,  0.70710678,  1.41421356],\n",
              "       [-1.41421356, -0.70710678,  0.        ,  0.70710678,  1.41421356],\n",
              "       [-1.41421356, -0.70710678,  0.        ,  0.70710678,  1.41421356],\n",
              "       [-1.41421356, -0.70710678,  0.        ,  0.70710678,  1.41421356],\n",
              "       [-1.41421356, -0.70710678,  0.        ,  0.70710678,  1.41421356]])"
            ]
          },
          "execution_count": 28,
          "metadata": {},
          "output_type": "execute_result"
        }
      ],
      "source": [
        "row_mean = np.mean(matriz, axis=1).reshape(len(matriz[0]),1)\n",
        "row_std = np.std(matriz, axis=1).reshape(len(matriz[0]),1)\n",
        "X_snv = (matriz - row_mean)/row_std\n",
        "X_snv"
      ]
    },
    {
      "cell_type": "markdown",
      "metadata": {
        "id": "odz_-SZNX4vG"
      },
      "source": [
        "#***Matriz de derivada***"
      ]
    },
    {
      "cell_type": "code",
      "execution_count": null,
      "metadata": {
        "colab": {
          "base_uri": "https://localhost:8080/"
        },
        "id": "a7KMaZ7vX_0W",
        "outputId": "63f0488f-5b13-4a05-e4e7-b906f10d4591"
      },
      "outputs": [
        {
          "data": {
            "text/plain": [
              "[[1, 1, 1, 1], [1, 1, 1, 1], [1, 1, 1, 1], [1, 1, 1, 1], [1, 1, 1, 1]]"
            ]
          },
          "execution_count": 43,
          "metadata": {},
          "output_type": "execute_result"
        }
      ],
      "source": [
        "dx = []\n",
        "for i in range(len(matriz)):\n",
        "  prueba = []\n",
        "  for j in range(len(matriz[i])-1):\n",
        "    a = matriz[i][j+1] - matriz[i][j]\n",
        "    prueba.append(a)\n",
        "  dx.append(prueba)\n",
        "dx"
      ]
    },
    {
      "cell_type": "markdown",
      "metadata": {
        "id": "-TLW4XLid9LI"
      },
      "source": [
        "#***Matriz de normalización***"
      ]
    },
    {
      "cell_type": "code",
      "execution_count": null,
      "metadata": {
        "colab": {
          "base_uri": "https://localhost:8080/"
        },
        "id": "dqzEePNDeCmt",
        "outputId": "82ad5b60-fbac-42a5-8483-9033d4d81c1e"
      },
      "outputs": [
        {
          "name": "stdout",
          "output_type": "stream",
          "text": [
            "[[0, 1, 2, 3, 4], [5, 6, 7, 8, 9], [10, 11, 12, 13, 14], [15, 16, 17, 18, 19], [20, 21, 22, 23, 24]]\n",
            "[27.386127875258307, 29.24038303442689, 31.144823004794873, 33.090784215548595, 35.07135583350036]\n"
          ]
        },
        {
          "data": {
            "text/plain": [
              "[[0.0,\n",
              "  0.03419927840283847,\n",
              "  0.06421612990679355,\n",
              "  0.09065968278232492,\n",
              "  0.11405318970244022],\n",
              " [0.18257418583505536,\n",
              "  0.20519567041703082,\n",
              "  0.22475645467377744,\n",
              "  0.24175915408619977,\n",
              "  0.2566196768304905],\n",
              " [0.3651483716701107,\n",
              "  0.37619206243122316,\n",
              "  0.38529677944076135,\n",
              "  0.3928586253900746,\n",
              "  0.39918616395854073],\n",
              " [0.5477225575051661,\n",
              "  0.5471884544454155,\n",
              "  0.5458371042077452,\n",
              "  0.5439580966939495,\n",
              "  0.541752651086591],\n",
              " [0.7302967433402214,\n",
              "  0.7181848464596079,\n",
              "  0.7063774289747291,\n",
              "  0.6950575679978244,\n",
              "  0.6843191382146413]]"
            ]
          },
          "execution_count": 65,
          "metadata": {},
          "output_type": "execute_result"
        }
      ],
      "source": [
        "import math\n",
        "\n",
        "columnas_Normalizadas = []\n",
        "for i in range(len(matriz)):\n",
        "  colI=[]\n",
        "  for j in range(len(matriz[i])):\n",
        "    colI.append(matriz[j][i])\n",
        "    #print(matriz[i], matriz[j], matriz[j][i], matriz[i][j])\n",
        "  norma = math.sqrt(sum([x**2 for x in colI]))\n",
        "  columnas_Normalizadas.append(norma)\n",
        "\n",
        "X_normalizada = []\n",
        "print(matriz)\n",
        "print(columnas_Normalizadas)\n",
        "\n",
        "for col in matriz:\n",
        "  conjunto = []\n",
        "  for id in range(len(col)):\n",
        "    b = col[id]/columnas_Normalizadas[id]\n",
        "    conjunto.append(b)\n",
        "  X_normalizada.append(conjunto)\n",
        "\n",
        "X_normalizada"
      ]
    },
    {
      "cell_type": "markdown",
      "metadata": {
        "id": "PQHn-wqueFNX"
      },
      "source": [
        "#***Matriz de línea base***"
      ]
    },
    {
      "cell_type": "code",
      "execution_count": null,
      "metadata": {
        "colab": {
          "base_uri": "https://localhost:8080/"
        },
        "id": "1PYBr5UteJ0F",
        "outputId": "53cfb59c-def5-4feb-875d-6eb1a3135c60"
      },
      "outputs": [
        {
          "data": {
            "text/plain": [
              "array([[ 0,  0,  0,  0,  0],\n",
              "       [ 5,  5,  5,  5,  5],\n",
              "       [10, 10, 10, 10, 10],\n",
              "       [15, 15, 15, 15, 15],\n",
              "       [20, 20, 20, 20, 20]])"
            ]
          },
          "execution_count": 46,
          "metadata": {},
          "output_type": "execute_result"
        }
      ],
      "source": [
        "column_min = np.min(matriz, axis=0)\n",
        "X_Lbase = matriz - column_min\n",
        "X_Lbase"
      ]
    },
    {
      "cell_type": "markdown",
      "metadata": {
        "id": "dbgOH2agCKX7"
      },
      "source": [
        "#***Funciones***"
      ]
    },
    {
      "cell_type": "code",
      "execution_count": 8,
      "metadata": {
        "colab": {
          "base_uri": "https://localhost:8080/"
        },
        "id": "wq6wM4nbCODj",
        "outputId": "47addf19-a79f-4d47-d415-29ea5326ea51"
      },
      "outputs": [
        {
          "output_type": "execute_result",
          "data": {
            "text/plain": [
              "[[0.0,\n",
              "  0.03419927840283847,\n",
              "  0.06421612990679355,\n",
              "  0.09065968278232492,\n",
              "  0.11405318970244022],\n",
              " [0.18257418583505536,\n",
              "  0.20519567041703082,\n",
              "  0.22475645467377744,\n",
              "  0.24175915408619977,\n",
              "  0.2566196768304905],\n",
              " [0.3651483716701107,\n",
              "  0.37619206243122316,\n",
              "  0.38529677944076135,\n",
              "  0.3928586253900746,\n",
              "  0.39918616395854073],\n",
              " [0.5477225575051661,\n",
              "  0.5471884544454155,\n",
              "  0.5458371042077452,\n",
              "  0.5439580966939495,\n",
              "  0.541752651086591],\n",
              " [0.7302967433402214,\n",
              "  0.7181848464596079,\n",
              "  0.7063774289747291,\n",
              "  0.6950575679978244,\n",
              "  0.6843191382146413]]"
            ]
          },
          "metadata": {},
          "execution_count": 8
        }
      ],
      "source": [
        "import numpy as np\n",
        "import math\n",
        "def centre(m):\n",
        "  column_mean = np.mean(m, axis=0)\n",
        "  X_centre = m - column_mean\n",
        "  return X_centre\n",
        "\n",
        "def escalar(m):\n",
        "  std_columns = np.std(m, axis=0)\n",
        "  X_escalada = centre(m)/std_columns\n",
        "  return X_escalada\n",
        "\n",
        "def SNV(m):\n",
        "  row_mean = np.mean(m, axis=1).reshape(len(m[0]),1)\n",
        "  row_std = np.std(m, axis=1).reshape(len(m[0]),1)\n",
        "  X_snv = (m - row_mean)/row_std\n",
        "  return X_snv\n",
        "\n",
        "def derivar(m):\n",
        "  dx = []\n",
        "  for i in range(len(m)):\n",
        "    prueba = []\n",
        "    for j in range(len(m[i])-1):\n",
        "      a = m[i][j+1] - m[i][j]\n",
        "      prueba.append(a)\n",
        "    dx.append(prueba)\n",
        "  return dx\n",
        "\n",
        "def normalizar(m):\n",
        "  columnas_Normalizadas = []\n",
        "  for i in range(len(m)):\n",
        "    colI=[]\n",
        "    for j in range(len(m[i])):\n",
        "      colI.append(m[j][i])\n",
        "      #print(matriz[i], matriz[j], matriz[j][i], matriz[i][j])\n",
        "    norma = math.sqrt(sum([x**2 for x in colI]))\n",
        "    columnas_Normalizadas.append(norma)\n",
        "  X_normalizada = []\n",
        "  #print(m)\n",
        "  #print(columnas_Normalizadas)\n",
        "  for col in m:\n",
        "    conjunto = []\n",
        "    for id in range(len(col)):\n",
        "      b = col[id]/columnas_Normalizadas[id]\n",
        "      conjunto.append(b)\n",
        "    X_normalizada.append(conjunto)\n",
        "  return X_normalizada\n",
        "\n",
        "def linea_base(m):\n",
        "  column_min = np.min(m, axis=0)\n",
        "  X_Lbase = m - column_min\n",
        "  return X_Lbase\n"
      ]
    }
  ],
  "metadata": {
    "colab": {
      "provenance": [],
      "authorship_tag": "ABX9TyPeWQ95fAgCZAll5JTHEvTm",
      "include_colab_link": true
    },
    "kernelspec": {
      "display_name": "Python 3",
      "name": "python3"
    },
    "language_info": {
      "name": "python"
    }
  },
  "nbformat": 4,
  "nbformat_minor": 0
}